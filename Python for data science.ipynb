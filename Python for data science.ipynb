{
 "cells": [
  {
   "cell_type": "markdown",
   "id": "d1a72fb1-e752-4d72-b865-7d9db13cd72f",
   "metadata": {},
   "source": [
    "## ?? to know what does that function do"
   ]
  },
  {
   "cell_type": "code",
   "execution_count": 1,
   "id": "e8627566-9fee-411a-be7b-00066464345d",
   "metadata": {},
   "outputs": [
    {
     "data": {
      "text/plain": [
       "\u001b[1;31mSignature:\u001b[0m \u001b[0mprint\u001b[0m\u001b[1;33m(\u001b[0m\u001b[1;33m*\u001b[0m\u001b[0margs\u001b[0m\u001b[1;33m,\u001b[0m \u001b[0msep\u001b[0m\u001b[1;33m=\u001b[0m\u001b[1;34m' '\u001b[0m\u001b[1;33m,\u001b[0m \u001b[0mend\u001b[0m\u001b[1;33m=\u001b[0m\u001b[1;34m'\\n'\u001b[0m\u001b[1;33m,\u001b[0m \u001b[0mfile\u001b[0m\u001b[1;33m=\u001b[0m\u001b[1;32mNone\u001b[0m\u001b[1;33m,\u001b[0m \u001b[0mflush\u001b[0m\u001b[1;33m=\u001b[0m\u001b[1;32mFalse\u001b[0m\u001b[1;33m)\u001b[0m\u001b[1;33m\u001b[0m\u001b[1;33m\u001b[0m\u001b[0m\n",
       "\u001b[1;31mDocstring:\u001b[0m\n",
       "Prints the values to a stream, or to sys.stdout by default.\n",
       "\n",
       "sep\n",
       "  string inserted between values, default a space.\n",
       "end\n",
       "  string appended after the last value, default a newline.\n",
       "file\n",
       "  a file-like object (stream); defaults to the current sys.stdout.\n",
       "flush\n",
       "  whether to forcibly flush the stream.\n",
       "\u001b[1;31mType:\u001b[0m      builtin_function_or_method"
      ]
     },
     "metadata": {},
     "output_type": "display_data"
    }
   ],
   "source": [
    "print??"
   ]
  },
  {
   "cell_type": "markdown",
   "id": "1fa9dd2c-f4e1-4eb0-bfb6-ed4c99df4d0e",
   "metadata": {},
   "source": [
    "## Variables, Lists and Dictionaries"
   ]
  },
  {
   "cell_type": "markdown",
   "id": "bfaf0f82",
   "metadata": {},
   "source": [
    "## 1. Data Types"
   ]
  },
  {
   "cell_type": "markdown",
   "id": "b26cb83a-1ba8-4a95-b845-aa3b1640d594",
   "metadata": {},
   "source": [
    "### Data Types"
   ]
  },
  {
   "cell_type": "code",
   "execution_count": 14,
   "id": "223c3203-c5d2-4988-8a23-7f328808b628",
   "metadata": {},
   "outputs": [],
   "source": [
    "#String\n",
    "Fruit = 'Apple'"
   ]
  },
  {
   "cell_type": "code",
   "execution_count": 3,
   "id": "1740b40b-5288-4e95-94d7-58f5b219cd82",
   "metadata": {},
   "outputs": [
    {
     "name": "stdout",
     "output_type": "stream",
     "text": [
      "Apple\n"
     ]
    }
   ],
   "source": [
    "print(Fruit)"
   ]
  },
  {
   "cell_type": "code",
   "execution_count": 4,
   "id": "83a0d989-84af-4bbf-8d3d-d1a5b725268b",
   "metadata": {},
   "outputs": [
    {
     "data": {
      "text/plain": [
       "str"
      ]
     },
     "execution_count": 4,
     "metadata": {},
     "output_type": "execute_result"
    }
   ],
   "source": [
    "type(Fruit)"
   ]
  },
  {
   "cell_type": "code",
   "execution_count": 15,
   "id": "b9447865-0df9-41cd-b214-7136dfbe0a78",
   "metadata": {},
   "outputs": [
    {
     "data": {
      "text/plain": [
       "100"
      ]
     },
     "execution_count": 15,
     "metadata": {},
     "output_type": "execute_result"
    }
   ],
   "source": [
    "#Integer\n",
    "int_var = 100\n",
    "int_var"
   ]
  },
  {
   "cell_type": "code",
   "execution_count": 6,
   "id": "0a49358c-4d48-46be-b40a-9974ba897c6a",
   "metadata": {},
   "outputs": [
    {
     "data": {
      "text/plain": [
       "int"
      ]
     },
     "execution_count": 6,
     "metadata": {},
     "output_type": "execute_result"
    }
   ],
   "source": [
    "type(int_var)"
   ]
  },
  {
   "cell_type": "code",
   "execution_count": 12,
   "id": "6ecf27b8-110d-4280-8ff7-f6bdc63cf205",
   "metadata": {},
   "outputs": [
    {
     "data": {
      "text/plain": [
       "110"
      ]
     },
     "execution_count": 12,
     "metadata": {},
     "output_type": "execute_result"
    }
   ],
   "source": [
    "#You can add or use operations for int variable \n",
    "int_var +10"
   ]
  },
  {
   "cell_type": "code",
   "execution_count": 16,
   "id": "830a18c0-0042-44dd-b59e-86b83b1ce6ab",
   "metadata": {},
   "outputs": [
    {
     "data": {
      "text/plain": [
       "float"
      ]
     },
     "execution_count": 16,
     "metadata": {},
     "output_type": "execute_result"
    }
   ],
   "source": [
    "#Float\n",
    "float_var = 7.73\n",
    "type(float_var)"
   ]
  },
  {
   "cell_type": "code",
   "execution_count": 20,
   "id": "012273e2-afe1-4e11-afcc-aa4e9bbb08bb",
   "metadata": {},
   "outputs": [
    {
     "data": {
      "text/plain": [
       "bool"
      ]
     },
     "execution_count": 20,
     "metadata": {},
     "output_type": "execute_result"
    }
   ],
   "source": [
    "#Boolean\n",
    "bool_var = False\n",
    "type(bool_var)"
   ]
  },
  {
   "cell_type": "code",
   "execution_count": 52,
   "id": "0ef4c8dc-ed22-4d7b-9480-3a5f04577319",
   "metadata": {},
   "outputs": [
    {
     "data": {
      "text/plain": [
       "bool"
      ]
     },
     "execution_count": 52,
     "metadata": {},
     "output_type": "execute_result"
    }
   ],
   "source": [
    "#TypeCasting\n",
    "var1 = bool(0)\n",
    "type(var1)"
   ]
  },
  {
   "cell_type": "code",
   "execution_count": 37,
   "id": "a7508b90-d9bd-4768-9190-fcbd6732a9a9",
   "metadata": {},
   "outputs": [
    {
     "data": {
      "text/plain": [
       "list"
      ]
     },
     "execution_count": 37,
     "metadata": {},
     "output_type": "execute_result"
    }
   ],
   "source": [
    "#Lists\n",
    "list_var = [1, 2, 3, 4.5, 'apple', True]\n",
    "type(list_var)"
   ]
  },
  {
   "cell_type": "code",
   "execution_count": 40,
   "id": "1ab3de1a-0a67-4943-ac02-ee5949774013",
   "metadata": {},
   "outputs": [
    {
     "data": {
      "text/plain": [
       "[10, 2, 3, 4.5, 'apple', True]"
      ]
     },
     "execution_count": 40,
     "metadata": {},
     "output_type": "execute_result"
    }
   ],
   "source": [
    "#List are mutable, i.e. we can change values in it.\n",
    "list_var[0] = 10\n",
    "list_var"
   ]
  },
  {
   "cell_type": "code",
   "execution_count": 49,
   "id": "ff201417-6692-4395-b41d-f439048ad9a2",
   "metadata": {},
   "outputs": [
    {
     "data": {
      "text/plain": [
       "tuple"
      ]
     },
     "execution_count": 49,
     "metadata": {},
     "output_type": "execute_result"
    }
   ],
   "source": [
    "#Tuple, tuples are immutable , we ccannot change values.\n",
    "tuple_var = (1, 2, 3, 4.5, 'apple', True)\n",
    "type(tuple_var)"
   ]
  },
  {
   "cell_type": "code",
   "execution_count": 54,
   "id": "1c7f2f18-f2a1-4a36-a240-aa583696c583",
   "metadata": {},
   "outputs": [
    {
     "data": {
      "text/plain": [
       "set"
      ]
     },
     "execution_count": 54,
     "metadata": {},
     "output_type": "execute_result"
    }
   ],
   "source": [
    "#Set, set are also immutable, values are not repeated in set.\n",
    "set_var = {1, 2, 3, 4.5, 'apple', True}\n",
    "type(set_var)"
   ]
  },
  {
   "cell_type": "code",
   "execution_count": 59,
   "id": "6d42b1ee-b53d-435d-bde6-83b603412fa6",
   "metadata": {},
   "outputs": [
    {
     "data": {
      "text/plain": [
       "{1, 2, 3}"
      ]
     },
     "execution_count": 59,
     "metadata": {},
     "output_type": "execute_result"
    }
   ],
   "source": [
    "#Typecasting\n",
    "i = [1,2,3,1,2,3]\n",
    "set(i)"
   ]
  },
  {
   "cell_type": "code",
   "execution_count": 71,
   "id": "cd7a597a-ec7c-4496-b3ea-06cf3d639c0e",
   "metadata": {},
   "outputs": [
    {
     "data": {
      "text/plain": [
       "{'Name': 'Aaquil', 'Age': 21}"
      ]
     },
     "execution_count": 71,
     "metadata": {},
     "output_type": "execute_result"
    }
   ],
   "source": [
    "#Dictionaries, key-value pair\n",
    "dict_var = {'Name': \"Aaquil\", 'Age': 21}\n",
    "dict_var"
   ]
  },
  {
   "cell_type": "code",
   "execution_count": 70,
   "id": "8d1b9536-dd8f-41af-8c35-48f94c36ac7a",
   "metadata": {},
   "outputs": [
    {
     "data": {
      "text/plain": [
       "21"
      ]
     },
     "execution_count": 70,
     "metadata": {},
     "output_type": "execute_result"
    }
   ],
   "source": [
    "dict_var[\"Age\"]"
   ]
  },
  {
   "cell_type": "markdown",
   "id": "942e78dd",
   "metadata": {},
   "source": [
    "## 2. Lists"
   ]
  },
  {
   "cell_type": "markdown",
   "id": "839a11f1-4832-4de8-9ac7-8bf1611f9117",
   "metadata": {},
   "source": [
    "## CRUD for Lists"
   ]
  },
  {
   "cell_type": "code",
   "execution_count": 3,
   "id": "d7482d2e-6c27-439d-aaa4-ed524e77df0d",
   "metadata": {},
   "outputs": [],
   "source": [
    "#Create\n",
    "fruits = ['Apple', 'Mango', 'Banana', 'Watermelon', 'Orange']"
   ]
  },
  {
   "cell_type": "code",
   "execution_count": 24,
   "id": "929a9b2e",
   "metadata": {},
   "outputs": [
    {
     "data": {
      "text/plain": [
       "7"
      ]
     },
     "execution_count": 24,
     "metadata": {},
     "output_type": "execute_result"
    }
   ],
   "source": [
    "#Read\n",
    "len(fruits)"
   ]
  },
  {
   "cell_type": "code",
   "execution_count": 11,
   "id": "a415f094",
   "metadata": {},
   "outputs": [
    {
     "data": {
      "text/plain": [
       "'Orange'"
      ]
     },
     "execution_count": 11,
     "metadata": {},
     "output_type": "execute_result"
    }
   ],
   "source": [
    "fruits[-1]"
   ]
  },
  {
   "cell_type": "code",
   "execution_count": 14,
   "id": "c5f5fe78",
   "metadata": {},
   "outputs": [
    {
     "data": {
      "text/plain": [
       "['Apple', 'Mango', 'Banana', 'Watermelon', 'Grape']"
      ]
     },
     "execution_count": 14,
     "metadata": {},
     "output_type": "execute_result"
    }
   ],
   "source": [
    "#Update\n",
    "fruits[-1] = 'Grape'\n",
    "fruits"
   ]
  },
  {
   "cell_type": "code",
   "execution_count": 21,
   "id": "fcff481b",
   "metadata": {},
   "outputs": [
    {
     "data": {
      "text/plain": [
       "['Apple', 'Mango', 'Banana', 'Watermelon', 'Grape', 'Cherry']"
      ]
     },
     "execution_count": 21,
     "metadata": {},
     "output_type": "execute_result"
    }
   ],
   "source": [
    "fruits.append('Cherry')\n",
    "fruits"
   ]
  },
  {
   "cell_type": "code",
   "execution_count": 22,
   "id": "33897d8d",
   "metadata": {},
   "outputs": [],
   "source": [
    "fruits.insert(0, 'Strawberry')"
   ]
  },
  {
   "cell_type": "code",
   "execution_count": 23,
   "id": "729395af",
   "metadata": {},
   "outputs": [
    {
     "data": {
      "text/plain": [
       "['Strawberry', 'Apple', 'Mango', 'Banana', 'Watermelon', 'Grape', 'Cherry']"
      ]
     },
     "execution_count": 23,
     "metadata": {},
     "output_type": "execute_result"
    }
   ],
   "source": [
    "fruits"
   ]
  },
  {
   "cell_type": "code",
   "execution_count": 25,
   "id": "1b76381b",
   "metadata": {},
   "outputs": [
    {
     "data": {
      "text/plain": [
       "['Strawberry', 'Apple', 'Mango', 'Banana', 'Watermelon', 'Grape']"
      ]
     },
     "execution_count": 25,
     "metadata": {},
     "output_type": "execute_result"
    }
   ],
   "source": [
    "#Delete\n",
    "del fruits[-1]\n",
    "fruits"
   ]
  },
  {
   "cell_type": "markdown",
   "id": "68b61ea4",
   "metadata": {},
   "source": [
    "## 3. Dictionaries"
   ]
  },
  {
   "cell_type": "markdown",
   "id": "ebec2ad9",
   "metadata": {},
   "source": [
    "## CRUD for Dictionary"
   ]
  },
  {
   "cell_type": "code",
   "execution_count": 26,
   "id": "487556d4",
   "metadata": {},
   "outputs": [],
   "source": [
    "#Create\n",
    "Profile = {'Name': \"Isagi Yoichi\",\n",
    "'Sport': \"Football\",\n",
    "'Team': \"Bluelock\",\n",
    "'Weapon': \"Direct Short\"\n",
    "}"
   ]
  },
  {
   "cell_type": "code",
   "execution_count": 29,
   "id": "1b62675c",
   "metadata": {},
   "outputs": [
    {
     "data": {
      "text/plain": [
       "{'Name': 'Isagi Yoichi',\n",
       " 'Sport': 'Football',\n",
       " 'Team': 'Bluelock',\n",
       " 'Weapon': 'Direct Short'}"
      ]
     },
     "execution_count": 29,
     "metadata": {},
     "output_type": "execute_result"
    }
   ],
   "source": [
    "#Read\n",
    "Profile"
   ]
  },
  {
   "cell_type": "code",
   "execution_count": 33,
   "id": "7544e6d7",
   "metadata": {},
   "outputs": [
    {
     "data": {
      "text/plain": [
       "'Isagi Yoichi'"
      ]
     },
     "execution_count": 33,
     "metadata": {},
     "output_type": "execute_result"
    }
   ],
   "source": [
    "Profile['Name']"
   ]
  },
  {
   "cell_type": "code",
   "execution_count": 43,
   "id": "c712eb32",
   "metadata": {},
   "outputs": [
    {
     "data": {
      "text/plain": [
       "dict_keys(['Name', 'Sport', 'Team', 'Weapon'])"
      ]
     },
     "execution_count": 43,
     "metadata": {},
     "output_type": "execute_result"
    }
   ],
   "source": [
    "Profile.keys()"
   ]
  },
  {
   "cell_type": "code",
   "execution_count": 44,
   "id": "5c79a993",
   "metadata": {},
   "outputs": [
    {
     "data": {
      "text/plain": [
       "dict_values(['Isagi Yoichi', 'Football', 'Bluelock', 'Direct Short'])"
      ]
     },
     "execution_count": 44,
     "metadata": {},
     "output_type": "execute_result"
    }
   ],
   "source": [
    "Profile.values()"
   ]
  },
  {
   "cell_type": "code",
   "execution_count": 45,
   "id": "9cec387f",
   "metadata": {},
   "outputs": [
    {
     "data": {
      "text/plain": [
       "{'Name': 'Isagi Yoichi',\n",
       " 'Sport': 'Football',\n",
       " 'Team': 'Bluelock',\n",
       " 'Weapon': 'Dribbling'}"
      ]
     },
     "execution_count": 45,
     "metadata": {},
     "output_type": "execute_result"
    }
   ],
   "source": [
    "#Update\n",
    "Profile['Weapon'] = \"Dribbling\"\n",
    "Profile"
   ]
  },
  {
   "cell_type": "code",
   "execution_count": 46,
   "id": "70667217",
   "metadata": {},
   "outputs": [],
   "source": [
    "Profile['Age']= 17"
   ]
  },
  {
   "cell_type": "code",
   "execution_count": 47,
   "id": "cab80438",
   "metadata": {},
   "outputs": [
    {
     "data": {
      "text/plain": [
       "{'Name': 'Isagi Yoichi',\n",
       " 'Sport': 'Football',\n",
       " 'Team': 'Bluelock',\n",
       " 'Weapon': 'Dribbling',\n",
       " 'Age': 17}"
      ]
     },
     "execution_count": 47,
     "metadata": {},
     "output_type": "execute_result"
    }
   ],
   "source": [
    "Profile"
   ]
  },
  {
   "cell_type": "code",
   "execution_count": 49,
   "id": "8a194037",
   "metadata": {},
   "outputs": [],
   "source": [
    "#Delete\n",
    "del Profile['Weapon']"
   ]
  },
  {
   "cell_type": "code",
   "execution_count": 50,
   "id": "8eb6154c",
   "metadata": {},
   "outputs": [
    {
     "data": {
      "text/plain": [
       "{'Name': 'Isagi Yoichi', 'Sport': 'Football', 'Team': 'Bluelock', 'Age': 17}"
      ]
     },
     "execution_count": 50,
     "metadata": {},
     "output_type": "execute_result"
    }
   ],
   "source": [
    "Profile"
   ]
  },
  {
   "cell_type": "markdown",
   "id": "80062653",
   "metadata": {},
   "source": [
    "## 4. Conditions and Logic"
   ]
  },
  {
   "cell_type": "code",
   "execution_count": 58,
   "id": "6cbde40f",
   "metadata": {},
   "outputs": [
    {
     "name": "stdout",
     "output_type": "stream",
     "text": [
      "True\n"
     ]
    }
   ],
   "source": [
    "#if-statement\n",
    "probability = 5.5\n",
    "if probability >= 0.5:\n",
    "    print(True)\n",
    "elif probability < 0:\n",
    "    print('Check your probability')\n",
    "else:\n",
    "    print(False)"
   ]
  },
  {
   "cell_type": "code",
   "execution_count": 59,
   "id": "6d0f0f5b",
   "metadata": {},
   "outputs": [
    {
     "data": {
      "text/plain": [
       "['Naruto', 'Luffy', 'Goku', 'Sakamoto', 'Nobita']"
      ]
     },
     "execution_count": 59,
     "metadata": {},
     "output_type": "execute_result"
    }
   ],
   "source": [
    "Names = ['Naruto', 'Luffy', 'Goku', 'Sakamoto', 'Nobita']\n",
    "Names"
   ]
  },
  {
   "cell_type": "code",
   "execution_count": 61,
   "id": "f3086ee7",
   "metadata": {},
   "outputs": [
    {
     "name": "stdout",
     "output_type": "stream",
     "text": [
      "Awesome\n"
     ]
    }
   ],
   "source": [
    "if 'Nobita' in Names:\n",
    "    print('Awesome')"
   ]
  },
  {
   "cell_type": "code",
   "execution_count": null,
   "id": "a443ccf5",
   "metadata": {},
   "outputs": [],
   "source": []
  }
 ],
 "metadata": {
  "kernelspec": {
   "display_name": "base",
   "language": "python",
   "name": "python3"
  },
  "language_info": {
   "codemirror_mode": {
    "name": "ipython",
    "version": 3
   },
   "file_extension": ".py",
   "mimetype": "text/x-python",
   "name": "python",
   "nbconvert_exporter": "python",
   "pygments_lexer": "ipython3",
   "version": "3.11.7"
  }
 },
 "nbformat": 4,
 "nbformat_minor": 5
}
